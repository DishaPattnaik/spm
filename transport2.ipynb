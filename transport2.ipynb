{
  "nbformat": 4,
  "nbformat_minor": 0,
  "metadata": {
    "colab": {
      "provenance": []
    },
    "kernelspec": {
      "name": "python3",
      "display_name": "Python 3"
    },
    "language_info": {
      "name": "python"
    }
  },
  "cells": [
    {
      "cell_type": "code",
      "execution_count": null,
      "metadata": {
        "colab": {
          "base_uri": "https://localhost:8080/"
        },
        "id": "_H1rRqcsC204",
        "outputId": "2bf8091c-4e46-4d64-bd37-d8e4f435f62e"
      },
      "outputs": [
        {
          "output_type": "stream",
          "name": "stdout",
          "text": [
            "Looking in indexes: https://pypi.org/simple, https://us-python.pkg.dev/colab-wheels/public/simple/\n",
            "Collecting pulp\n",
            "  Downloading PuLP-2.7.0-py3-none-any.whl (14.3 MB)\n",
            "\u001b[2K     \u001b[90m━━━━━━━━━━━━━━━━━━━━━━━━━━━━━━━━━━━━━━━━\u001b[0m \u001b[32m14.3/14.3 MB\u001b[0m \u001b[31m42.6 MB/s\u001b[0m eta \u001b[36m0:00:00\u001b[0m\n",
            "\u001b[?25hInstalling collected packages: pulp\n",
            "Successfully installed pulp-2.7.0\n"
          ]
        }
      ],
      "source": [
        "!pip install pulp"
      ]
    },
    {
      "cell_type": "code",
      "source": [
        "from pulp import *\n",
        "import pandas as pd\n",
        "\n",
        "# Load data\n",
        "df = pd.read_excel(\"/content/dp final.xlsx\")\n",
        "df.head()\n",
        "df.tail()\n",
        "Branch = df.columns[2:(len(df.columns)-1)]\n",
        "Warehouse = list(df[\"Destination\"])\n",
        "Warehouse=Warehouse[:len(Warehouse)-1]\n",
        "supply={}\n",
        "for i in Branch:\n",
        "  supply[i]=df[i][(len(df[i]))-1]\n",
        "demand = dict(zip(Warehouse, df['Demand']))\n",
        "cost={}\n",
        "for j in Branch:\n",
        "  cost[j]=dict(zip(Warehouse, df[j][:(len(df[i]))-1]))\n",
        "\n",
        "\n",
        "\n",
        "# Set problem variable\n",
        "prob = LpProblem(\"Transportation\", LpMinimize)\n",
        "routes = [(i, j) for i in Branch for j in Warehouse]\n",
        "\n",
        "# Decision variable\n",
        "x = LpVariable.dicts(\"x\", (Branch, Warehouse), 0)\n",
        "\n",
        "# Objective function\n",
        "prob += lpSum(x[i][j] * cost[i][j] for (i,j) in routes)\n",
        "\n",
        "# Constraints\n",
        "for j in Warehouse:\n",
        "    prob += lpSum(x[i][j] for i in Branch) == demand[j]\n",
        "\n",
        "for i in Branch:\n",
        "    prob += lpSum(x[i][j] for j in Warehouse) <= supply[i]\n",
        "\n",
        "# Solve the problem\n",
        "prob.solve()\n",
        "\n",
        "# Print the results\n",
        "print(\"Status: \", LpStatus[prob.status])\n",
        "print(\"\\nOptimal Solution:\")\n",
        "\n",
        "print(\"\\nTotal Cost: \", value(prob.objective))"
      ],
      "metadata": {
        "colab": {
          "base_uri": "https://localhost:8080/"
        },
        "id": "RRNpYyy8E2U-",
        "outputId": "948b95e7-0684-4468-d838-dc9f4ba36791"
      },
      "execution_count": null,
      "outputs": [
        {
          "output_type": "stream",
          "name": "stdout",
          "text": [
            "Status:  Optimal\n",
            "\n",
            "Optimal Solution:\n",
            "\n",
            "Total Cost:  4502283.104873108\n"
          ]
        }
      ]
    },
    {
      "cell_type": "code",
      "source": [
        "Warehouse\n"
      ],
      "metadata": {
        "colab": {
          "base_uri": "https://localhost:8080/"
        },
        "id": "E6g4BEkZNGtj",
        "outputId": "4dea0086-beba-45b3-819b-e61a1054806d"
      },
      "execution_count": null,
      "outputs": [
        {
          "output_type": "execute_result",
          "data": {
            "text/plain": [
              "['SURAT (SHIV ROAD LINES)', nan]"
            ]
          },
          "metadata": {},
          "execution_count": 59
        }
      ]
    },
    {
      "cell_type": "code",
      "source": [
        "cost"
      ],
      "metadata": {
        "id": "nyEKMZLtKWM-"
      },
      "execution_count": null,
      "outputs": []
    },
    {
      "cell_type": "code",
      "source": [
        "!pip install pulp\n",
        "from pulp import *\n",
        "import pandas as pd\n",
        "\n",
        "# Load data\n",
        "df = pd.read_excel(\"/content/dp final.xlsx\")\n",
        "df.head()\n",
        "df.tail()\n",
        "Branch = df.columns[2:(len(df.columns)-1)]\n",
        "Warehouse = list(df[\"Destination\"])\n",
        "Warehouse=Warehouse[:len(Warehouse)-1]\n",
        "supply={}\n",
        "for i in Branch:\n",
        "  supply[i]=df[i][(len(df[i]))-1]\n",
        "demand = dict(zip(Warehouse, df['Demand']))\n",
        "cost={}\n",
        "for j in Branch:\n",
        "  cost[j]=dict(zip(Warehouse, df[j][:(len(df[i]))-1]))\n",
        "\n",
        "\n",
        "\n",
        "# Set problem variable\n",
        "prob = LpProblem(\"Transportation\", LpMinimize)\n",
        "routes = [(i, j) for i in Branch for j in Warehouse]\n",
        "\n",
        "# Decision variable\n",
        "x = LpVariable.dicts(\"x\", (Branch, Warehouse), 0)\n",
        "\n",
        "# Objective function\n",
        "prob += lpSum(x[i][j] * cost[i][j] for (i,j) in routes)\n",
        "\n",
        "# Constraints\n",
        "for j in Warehouse:\n",
        "    prob += lpSum(x[i][j] for i in Branch) == demand[j]\n",
        "\n",
        "for i in Branch:\n",
        "    prob += lpSum(x[i][j] for j in Warehouse) <= supply[i]\n",
        "\n",
        "# Solve the problem\n",
        "prob.solve()\n",
        "\n",
        "# Print the results\n",
        "print(\"Status: \", LpStatus[prob.status])\n",
        "print(\"\\nOptimal Solution:\")\n",
        "\n",
        "print(\"\\nTotal Cost: \", value(prob.objective))\n",
        "# Create an empty list to hold the data\n",
        "results = []\n",
        "\n",
        "# Append the data for each variable to the list\n",
        "for i in Branch:\n",
        "    for j in Warehouse:\n",
        "        results.append({\n",
        "            'From': i,\n",
        "            'To': j,\n",
        "            'Quantity': x[i][j].varValue,\n",
        "            'Cost': cost[i][j]\n",
        "        })\n",
        "\n",
        "# Convert the list to a Pandas dataframe\n",
        "df_results = pd.DataFrame(results)\n",
        "\n",
        "# Create dummy variables for the 'From' column\n",
        "df_from = pd.get_dummies(df_results['From'], prefix='From')\n",
        "\n",
        "# Concatenate the original dataframe with the dummy variables\n",
        "df_results = pd.concat([df_results, df_from], axis=1)\n",
        "\n",
        "# Drop the original 'From' column\n",
        "df_results = df_results.drop('From', axis=1)\n",
        "\n",
        "# Add a column for the total cost for each route\n",
        "df_results['Total Cost'] = df_results['Quantity'] * df_results['Cost']\n",
        "\n",
        "# Filter out the rows where the cost is 0\n",
        "df_results = df_results[df_results['Total Cost'] != 0]\n",
        "\n",
        "# Reset the index of the dataframe\n",
        "df_results = df_results.reset_index(drop=True)\n",
        "\n",
        "# Print the dataframe\n",
        "df_results\n",
        "# Sensitivity Analysis\n",
        "sensitivity_results = []\n",
        "for name, c in prob.constraints.items():\n",
        "    sensitivity_results.append({'Variable': name, 'Shadow Price': c.pi})\n",
        "    for v in prob.variables():\n",
        "        if v.name in c:\n",
        "            sensitivity_results.append({'Variable': (v.name, \"=\", v.varValue), 'Shadow Price': v.dj})\n",
        "\n",
        "# Convert the sensitivity results to a Pandas dataframe\n",
        "df_sensitivity = pd.DataFrame(sensitivity_results)\n",
        "Destination = df_results['To'].sort_values(ascending=True).reset_index(drop=True)\n",
        "df_sensitivity = pd.concat([df_sensitivity, Destination], axis =1 )\n",
        "df_sensitivity = df_sensitivity[df_sensitivity['Shadow Price'] != 0]\n",
        "\n",
        "# Print the dataframe\n",
        "df_sensitivity"
      ],
      "metadata": {
        "id": "3acVI1pMOSUN"
      },
      "execution_count": null,
      "outputs": []
    }
  ]
}